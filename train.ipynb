{
  "nbformat": 4,
  "nbformat_minor": 0,
  "metadata": {
    "colab": {
      "name": "Untitled9.ipynb",
      "provenance": []
    },
    "kernelspec": {
      "name": "python3",
      "display_name": "Python 3"
    },
    "language_info": {
      "name": "python"
    }
  },
  "cells": [
    {
      "cell_type": "code",
      "execution_count": null,
      "metadata": {
        "id": "nMYcnoqIh1ES"
      },
      "outputs": [],
      "source": [
        "# -*- coding: utf-8 -*-"
      ]
    },
    {
      "cell_type": "markdown",
      "source": [
        "Load libs"
      ],
      "metadata": {
        "id": "JcBSCzEuiAil"
      }
    },
    {
      "cell_type": "code",
      "source": [
        "import numpy as np\n",
        "import pandas as pd\n",
        "from sklearn.model_selection import train_test_split\n",
        "from sklearn.metrics import accuracy_score, f1_score, plot_confusion_matrix\n",
        "from sklearn.ensemble import RandomForestClassifier\n",
        "import math,random,os\n",
        "import matplotlib.pyplot as plt\n",
        "import seaborn as sns"
      ],
      "metadata": {
        "id": "P5TY9VNUh3FZ"
      },
      "execution_count": null,
      "outputs": []
    },
    {
      "cell_type": "markdown",
      "source": [
        "Set pd options"
      ],
      "metadata": {
        "id": "jSqfwNOKiDfi"
      }
    },
    {
      "cell_type": "code",
      "source": [
        "pd.set_option('display.max_columns', None)"
      ],
      "metadata": {
        "id": "QlUBvt4Uh3H8"
      },
      "execution_count": null,
      "outputs": []
    },
    {
      "cell_type": "markdown",
      "source": [
        "Define const values"
      ],
      "metadata": {
        "id": "tUP3hD2jiHQa"
      }
    },
    {
      "cell_type": "code",
      "source": [
        "exp=2.7182818284590452353602874713526624977572470936999595749669676277240766303535475945713821785251664274274663919320030599218174135966290435729003342952605956307381323286279434907632338298807531952510190115738341879307021540891499348841675092447614606680822648001684774118537423454424371075390777449920695517027618386062613313845830007520449338265602976067371132007093287091274437470472306969772093101416928368190255151086574637721112523897844250569536967707854499699679468644549059879316368892300987931277361782154249992295763514822082698951936680331825288693984964651058209392398294887933203625094431173012381970684161403970198376793206832823764648042953118023287825098194558153017567173613320698112509961818815930416903515988885193458072738667385894228792284998920868058257492796104841984443634632449684875602336248270419786232090021609902353043699418491463140934317381436405462531520961836908887070167683964243781405927145635490613031072085103837505101157477041718986106873969655212671546889570350354\n",
        "c=\t299792458 #M/S\n",
        "MeV_to_KG=5.60958*(10**29)\n",
        "MeVs_to_kgms=5.344/(10**22)\n",
        "electron_mass=0.0005489 #AEM\n",
        "electron_mass_kg=9.1093837/(10**31) #9.1093837\n",
        "aem=6.022e+26#1 кг"
      ],
      "metadata": {
        "id": "EVZ13IqDh3Ms"
      },
      "execution_count": null,
      "outputs": []
    },
    {
      "cell_type": "markdown",
      "source": [
        "Set seed"
      ],
      "metadata": {
        "id": "T5m6CRXYiO-D"
      }
    },
    {
      "cell_type": "code",
      "source": [
        "seed=42\n",
        "def seed_everything(seed=0):\n",
        "    random.seed(seed)\n",
        "    os.environ['PYTHONHASHSEED'] = str(seed)\n",
        "    np.random.seed(seed)\n",
        "\n",
        "seed_everything(seed)"
      ],
      "metadata": {
        "id": "Zj0EmgTlh3PU"
      },
      "execution_count": null,
      "outputs": []
    },
    {
      "cell_type": "markdown",
      "source": [
        "Read data"
      ],
      "metadata": {
        "id": "Y0f4K6QTiT3N"
      }
    },
    {
      "cell_type": "code",
      "source": [
        "train = pd.read_excel('For_model_labled.xlsx')\n",
        "test = pd.read_excel('For_check_unlabled.xlsx')"
      ],
      "metadata": {
        "id": "aDHMNq44h3Ry"
      },
      "execution_count": null,
      "outputs": []
    },
    {
      "cell_type": "markdown",
      "source": [
        "Replace and fill M"
      ],
      "metadata": {
        "id": "hfg8op6Gies0"
      }
    },
    {
      "cell_type": "code",
      "source": [
        "def calc_M(phi1,phi2,eta1,eta2,p1,p2):\n",
        "    return np.sqrt( 2*p1*p2* ( np.cosh(eta1-eta2) - np.cos( phi1 - phi2 ) ) )"
      ],
      "metadata": {
        "id": "A7RAxbaSh3St"
      },
      "execution_count": null,
      "outputs": []
    },
    {
      "cell_type": "code",
      "source": [
        "train['M_new']=calc_M(train['phi1'],train['phi2'],train['eta1'],train['eta2'],train['pt1'],train['pt2'])#more accurate\n",
        "test['M_new']=calc_M(test['phi1'],test['phi2'],test['eta1'],test['eta2'],test['pt1'],test['pt2'])#more accurate\n",
        "train=train.drop('M',axis=1)\n",
        "test=test.drop('M',axis=1)"
      ],
      "metadata": {
        "id": "qjTr_yXDh3VA"
      },
      "execution_count": null,
      "outputs": []
    },
    {
      "cell_type": "markdown",
      "source": [
        "# Some formulas"
      ],
      "metadata": {
        "id": "16huP1Xniiym"
      }
    },
    {
      "cell_type": "markdown",
      "source": [
        "New p (outdated formula, also wrong)"
      ],
      "metadata": {
        "id": "8JeCtdwRix8l"
      }
    },
    {
      "cell_type": "code",
      "source": [
        "#train['p_1']=abs((train['pt1']*(exp**(2*train['eta1']) +1))/(exp**(2*train['eta1'])-1))\n",
        "#train['p_2']=abs((train['pt2']*(exp**(2*train['eta2']) +1))/(exp**(2*train['eta2'])-1))\n",
        "\n",
        "#test['p_1']=abs((test['pt1']*(exp**(2*test['eta1']) +1))/(exp**(2*test['eta1'])-1))\n",
        "#test['p_2']=abs((test['pt2']*(exp**(2*test['eta2']) +1))/(exp**(2*test['eta2'])-1))"
      ],
      "metadata": {
        "id": "WLqwIAc6h3Xv"
      },
      "execution_count": null,
      "outputs": []
    },
    {
      "cell_type": "markdown",
      "source": [
        "New p (outdated formula, also wrong)"
      ],
      "metadata": {
        "id": "wAAMJfUAi8Ks"
      }
    },
    {
      "cell_type": "code",
      "source": [
        "#train['p1']=np.sqrt(((train['E1']*1000)**2)-(electron_mass**2)*(931.5**2))/931.5\n",
        "#train['p2']=np.sqrt(((train['E2']*1000)**2)-(electron_mass**2)*(931.5**2))/931.5\n",
        "#test['p1']=np.sqrt(((test['E1']*1000)**2)-(electron_mass**2)*(931.5**2))/931.5\n",
        "#test['p2']=np.sqrt(((test['E2']*1000)**2)-(electron_mass**2)*(931.5**2))/931.5"
      ],
      "metadata": {
        "id": "SwDi15L-h3aS"
      },
      "execution_count": null,
      "outputs": []
    },
    {
      "cell_type": "markdown",
      "source": [
        "Get more accutrate E through px, py, pz. (doesnt improve score for some reason)"
      ],
      "metadata": {
        "id": "RlXJ9CIdi96i"
      }
    },
    {
      "cell_type": "code",
      "source": [
        "#train['E1']=np.sqrt((train['px1']**2)+(train['py1']**2)+(train['pz1']**2)) #more accurate\n",
        "#train['E2']=np.sqrt((train['px2']**2)+(train['py2']**2)+(train['pz2']**2)) #more accurate"
      ],
      "metadata": {
        "id": "Is6ult8Yh1rU"
      },
      "execution_count": null,
      "outputs": []
    },
    {
      "cell_type": "markdown",
      "source": [
        "Funcs to get joules from eV and kg*m/s from MeV/s"
      ],
      "metadata": {
        "id": "j-sP5gOpjKX6"
      }
    },
    {
      "cell_type": "code",
      "source": [
        "def get_joules(num):\n",
        "    return 1.6022e-13*num\n",
        "\n",
        "def get_kgms(num):\n",
        "    return num*MeVs_to_kgms"
      ],
      "metadata": {
        "id": "UkvdIyMXh1uB"
      },
      "execution_count": null,
      "outputs": []
    },
    {
      "cell_type": "markdown",
      "source": [
        "Calculate longitudinal momentum"
      ],
      "metadata": {
        "id": "ln8O1aIWjcVa"
      }
    },
    {
      "cell_type": "code",
      "source": [
        "#train['pl1']=np.sqrt((train['py1']**2)+(train['pz1']**2))\n",
        "#train['pl2']=np.sqrt((train['py2']**2)+(train['pz2']**2))\n",
        "#test['pl1']=np.sqrt((test['py1']**2)+(test['pz1']**2))\n",
        "#test['pl2']=np.sqrt((test['py2']**2)+(test['pz2']**2))"
      ],
      "metadata": {
        "id": "tKxoBNaqh1wc"
      },
      "execution_count": null,
      "outputs": []
    },
    {
      "cell_type": "markdown",
      "source": [
        "Copy E1, E2"
      ],
      "metadata": {
        "id": "VMbRyae9jtny"
      }
    },
    {
      "cell_type": "code",
      "source": [
        "train['E1_copy']=train['E1']\n",
        "train['E2_copy']=train['E2']\n",
        "test['E1_copy']=test['E1']\n",
        "test['E2_copy']=test['E2']"
      ],
      "metadata": {
        "id": "KcjJSZmXh1xm"
      },
      "execution_count": null,
      "outputs": []
    },
    {
      "cell_type": "markdown",
      "source": [
        "Calculate energy of both particles"
      ],
      "metadata": {
        "id": "bCP49U3Tjx5I"
      }
    },
    {
      "cell_type": "code",
      "source": [
        "#train['ttl_E']=train['E1']+train['E2']\n",
        "#test['ttl_E']=test['E1']+test['E2']"
      ],
      "metadata": {
        "id": "FebIBK3eh1yk"
      },
      "execution_count": null,
      "outputs": []
    },
    {
      "cell_type": "markdown",
      "source": [
        "Calculate rest energy"
      ],
      "metadata": {
        "id": "PsENlc9wj3kD"
      }
    },
    {
      "cell_type": "code",
      "source": [
        "#train['rest_energy']=(train['M_new']*1000)*(931.5**2)\n",
        "#test['rest_energy']=(test['M_new']*1000)*(931.5**2)"
      ],
      "metadata": {
        "id": "9SV-Up3Rh1ze"
      },
      "execution_count": null,
      "outputs": []
    },
    {
      "cell_type": "markdown",
      "source": [
        "Function to get particle speed (mv^2/2 formula from relative physics)"
      ],
      "metadata": {
        "id": "r6omGakgj6-v"
      }
    },
    {
      "cell_type": "code",
      "source": [
        "def calc_speed(E):\n",
        "    return c*(np.sqrt(1- ((electron_mass_kg*(c**2))/(E+electron_mass_kg*(c**2)))**2 ))"
      ],
      "metadata": {
        "id": "TgGx2gkEh11R"
      },
      "execution_count": null,
      "outputs": []
    },
    {
      "cell_type": "markdown",
      "source": [
        "Get c-v (where c is light speed and v is particle speed)"
      ],
      "metadata": {
        "id": "by6j5EYpkIvJ"
      }
    },
    {
      "cell_type": "code",
      "source": [
        "#train['v1']=(c-calc_speed(get_joules(train['E1']*1000)))**2\n",
        "#train['v2']=(c-calc_speed(get_joules(train['E2']*1000)))**2\n",
        "\n",
        "#test['v1']=(c-calc_speed(get_joules(test['E1']*1000)))**2\n",
        "#test['v2']=(c-calc_speed(get_joules(test['E2']*1000)))**2"
      ],
      "metadata": {
        "id": "I2gjuAj4h13o"
      },
      "execution_count": null,
      "outputs": []
    },
    {
      "cell_type": "code",
      "source": [
        "#train['w1']=np.arctanh((c-train['v1'])/c)\n",
        "#train['w2']=np.arctanh((c-train['v2'])/c)\n",
        "#test['w1']=np.arctanh((c-test['v1'])/c)\n",
        "#test['w2']=np.arctanh((c-test['v2'])/c)"
      ],
      "metadata": {
        "id": "U3176xhPh14k"
      },
      "execution_count": null,
      "outputs": []
    },
    {
      "cell_type": "markdown",
      "source": [
        "Func to calculate particle momentum (p=mv formula from relative physics)"
      ],
      "metadata": {
        "id": "fntPYTZFkySO"
      }
    },
    {
      "cell_type": "code",
      "source": [
        "def calc_momenta(v):\n",
        "    return electron_mass_kg*v/np.sqrt(1-((v**2)/(c**2)))"
      ],
      "metadata": {
        "id": "gDQ72tSZh16E"
      },
      "execution_count": null,
      "outputs": []
    },
    {
      "cell_type": "markdown",
      "source": [
        "Get particle momentum in kg*m/s"
      ],
      "metadata": {
        "id": "DDXXHwpsk3c_"
      }
    },
    {
      "cell_type": "code",
      "source": [
        "#train['momenta1_kgm_per_s']=calc_momenta(c-train['v1'])\n",
        "#train['momenta2_kgm_per_s']=calc_momenta(c-train['v2'])\n",
        "#test['momenta1_kgm_per_s']=calc_momenta(c-test['v1'])\n",
        "#test['momenta2_kgm_per_s']=calc_momenta(c-test['v2'])"
      ],
      "metadata": {
        "id": "V7X00rnfh168"
      },
      "execution_count": null,
      "outputs": []
    },
    {
      "cell_type": "markdown",
      "source": [
        "Func to calculate particle rapidity"
      ],
      "metadata": {
        "id": "QGwpDAdilAb2"
      }
    },
    {
      "cell_type": "code",
      "source": [
        "def calc_rapidity(eta,transverse):\n",
        "    return eta-(np.tanh(eta)/2)*(electron_mass_kg/transverse)**2"
      ],
      "metadata": {
        "id": "vwOHMXr7k0Kb"
      },
      "execution_count": null,
      "outputs": []
    },
    {
      "cell_type": "markdown",
      "source": [
        "Get particles rapidity"
      ],
      "metadata": {
        "id": "dyMPx__glKcg"
      }
    },
    {
      "cell_type": "code",
      "source": [
        "#train['y1']=calc_rapidity(train['eta1'],get_joules(train['pt1']*1000))\n",
        "#train['y2']=calc_rapidity(train['eta2'],get_joules(train['pt2']*1000))\n",
        "#test['y1']=calc_rapidity(test['eta1'],get_joules(test['pt1']*1000))\n",
        "#test['y2']=calc_rapidity(test['eta2'],get_joules(test['pt2']*1000))"
      ],
      "metadata": {
        "id": "ojOEWu2Bk0MH"
      },
      "execution_count": null,
      "outputs": []
    },
    {
      "cell_type": "markdown",
      "source": [
        "Get diff between 2 particles"
      ],
      "metadata": {
        "id": "pBMnwrOdlMM_"
      }
    },
    {
      "cell_type": "code",
      "source": [
        "#train['diff_R']=np.sqrt(((train['y1']-train['y2'])**2)+((train['phi1']-train['phi2'])**2))\n",
        "#test['diff_R']=np.sqrt(((test['y1']-test['y2'])**2)+((test['phi1']-test['phi2'])**2))"
      ],
      "metadata": {
        "id": "2WUyEyx-k0Oq"
      },
      "execution_count": null,
      "outputs": []
    },
    {
      "cell_type": "markdown",
      "source": [
        "Get transverse energy"
      ],
      "metadata": {
        "id": "ffJhKR_8lU4S"
      }
    },
    {
      "cell_type": "code",
      "source": [
        "#train['Et1']=np.sqrt((train['pt1']**2)+(train['M_new']**2))\n",
        "#train['Et2']=np.sqrt((train['pt2']**2)+(train['M_new']**2))\n",
        "#test['Et1']=np.sqrt((test['pt1']**2)+(test['M_new']**2))\n",
        "#test['Et2']=np.sqrt((test['pt2']**2)+(test['M_new']**2))"
      ],
      "metadata": {
        "id": "c3XYfIe7k0RR"
      },
      "execution_count": null,
      "outputs": []
    },
    {
      "cell_type": "markdown",
      "source": [
        "Drop features with low importance for catboost"
      ],
      "metadata": {
        "id": "psmbSqEjlb1G"
      }
    },
    {
      "cell_type": "code",
      "source": [
        "unimportant=['px1','px2','py1','py2','pz1','pz2','phi1','phi2']#,'w1','w2','y2']\n",
        "\n",
        "train=train.drop(columns=unimportant)\n",
        "test=test.drop(columns=unimportant)"
      ],
      "metadata": {
        "id": "LWPo08zHk0TT"
      },
      "execution_count": null,
      "outputs": []
    },
    {
      "cell_type": "markdown",
      "source": [
        "Drop features with high correlation"
      ],
      "metadata": {
        "id": "xsogOYWlliaV"
      }
    },
    {
      "cell_type": "code",
      "source": [
        "#high_corr=['y1','eta2','M_new'] #high corr with eta1,y2,rest_energy\n",
        "\n",
        "#train=train.drop(columns=high_corr)\n",
        "#test=test.drop(columns=high_corr)"
      ],
      "metadata": {
        "id": "FEbQE3Nbh19e"
      },
      "execution_count": null,
      "outputs": []
    },
    {
      "cell_type": "markdown",
      "source": [
        "Prepare data for train and predict"
      ],
      "metadata": {
        "id": "WVjc3yErlrmi"
      }
    },
    {
      "cell_type": "code",
      "source": [
        "y = train['Q2']\n",
        "X = train.drop(columns = ['Q2'])\n",
        "\n",
        "X=X.drop(columns=['Event','Run'])\n",
        "ev=test['Event']\n",
        "test=test.drop(columns=['Event','Run'])"
      ],
      "metadata": {
        "id": "SV6T0vhhlp7C"
      },
      "execution_count": null,
      "outputs": []
    },
    {
      "cell_type": "markdown",
      "source": [
        "# Train CatBoostClassifier on 4 folds and predict test (mean result from 4 folds)\n",
        "Iterations - can be higher or lower, doesn't matter, it's just for cb to find best iter\n",
        "\n",
        "Random_state - seeded to get peproducability\n",
        "\n",
        "Eval_metric - F1, competition metric\n",
        "\n",
        "Learning_rate - 0.5, very high, but it proved to be best on public leaderboard. My guess is that it's harder for model to overfit this way, while maintaining some kind of learning process without giving up all old patterns."
      ],
      "metadata": {
        "id": "8r3JvF5wl1kQ"
      }
    },
    {
      "cell_type": "code",
      "source": [
        "from catboost import CatBoostClassifier\n",
        "from sklearn.model_selection import KFold\n",
        "n_splits=4\n",
        "kf = KFold(n_splits=n_splits)\n",
        "\n",
        "preds=np.zeros(len(test))\n",
        "val_scr=0\n",
        "\n",
        "for train_index, test_index in kf.split(X):\n",
        "    X_train, X_val = X.values[train_index], X.values[test_index]\n",
        "    y_train, y_val = y.values[train_index], y.values[test_index]\n",
        "    rfc = CatBoostClassifier(iterations=100, random_state=seed, eval_metric='F1',learning_rate=0.5)\n",
        "    rfc.fit(X_train, y_train, eval_set=(X_val, y_val), use_best_model=True,verbose=0)\n",
        "    print(rfc.best_score_,rfc.best_iteration_)\n",
        "    val_scr+=rfc.best_score_['validation']['F1']\n",
        "    pred=rfc.predict(test.values)\n",
        "    preds+=pred\n"
      ],
      "metadata": {
        "id": "BzFfXeKrlqBj"
      },
      "execution_count": null,
      "outputs": []
    },
    {
      "cell_type": "code",
      "source": [
        "val_scr/=n_splits\n",
        "preds/=n_splits"
      ],
      "metadata": {
        "id": "dGfirgjblqEI"
      },
      "execution_count": null,
      "outputs": []
    },
    {
      "cell_type": "markdown",
      "source": [
        "Round predictions and get them to proper format"
      ],
      "metadata": {
        "id": "xY1fWorxmyfb"
      }
    },
    {
      "cell_type": "code",
      "source": [
        "for i,pred in enumerate(preds):\n",
        "    if pred>0:\n",
        "        preds[i]=1\n",
        "    else:\n",
        "        preds[i]=-1\n",
        "    preds[i]=int(preds[i])"
      ],
      "metadata": {
        "id": "D_1d67P6mw8u"
      },
      "execution_count": null,
      "outputs": []
    },
    {
      "cell_type": "markdown",
      "source": [
        "Save submit to csv file"
      ],
      "metadata": {
        "id": "hSn_U79fm8L8"
      }
    },
    {
      "cell_type": "code",
      "source": [
        "pred = preds\n",
        "result=pd.DataFrame({'Event':[],'Q2':[]})\n",
        "result['Event']=ev\n",
        "result['Q2']=pred\n",
        "result.Q2.replace({-1:'-1',\n",
        "                   1:'1'}, inplace=True)\n",
        "\n",
        "result.to_csv('final.csv',index=False)"
      ],
      "metadata": {
        "id": "3xoT9hCUm4b3"
      },
      "execution_count": null,
      "outputs": []
    }
  ]
}